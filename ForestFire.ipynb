{
 "cells": [
  {
   "cell_type": "code",
   "execution_count": 299,
   "metadata": {},
   "outputs": [],
   "source": [
    "import numpy as np\n",
    "import matplotlib\n",
    "import matplotlib.pyplot as plt\n",
    "from mpl_toolkits.mplot3d import Axes3D\n",
    "from matplotlib import cm\n",
    "%matplotlib qt"
   ]
  },
  {
   "cell_type": "code",
   "execution_count": 300,
   "metadata": {},
   "outputs": [],
   "source": [
    "# Probability Parameters\n",
    "\n",
    "D = 0.6 # Probability that A[i,j] starts as vegetation and not an empty cell\n",
    "B = 0.25 # Probability that a burning cell becomes burnt\n",
    "I = 0.2 # Probability that a burning cell turns its vegetation into burning\n"
   ]
  },
  {
   "cell_type": "code",
   "execution_count": 301,
   "metadata": {},
   "outputs": [],
   "source": [
    "def display(A):\n",
    "    maxX = A.shape[0]\n",
    "    maxY = A.shape[1]\n",
    "    B = np.zeros((maxY, maxX))\n",
    "    for ix in range(0,maxX):\n",
    "        for iy in range(0,maxY):\n",
    "            B[maxY-1-iy,ix] = A[ix,iy]\n",
    "\n",
    "    #Display the graphics outside of the notebook. \n",
    "    #On a PC, use '%matplotlib qt' instead.\n",
    "    %matplotlib qt \n",
    "    \n",
    "    fig.clear()\n",
    "    plt.rcParams['figure.figsize'] = [10, 10/maxX*maxY]\n",
    "    plt.imshow(B, cmap='Dark2'); \n",
    "    plt.axis('off'); \n",
    "    plt.show()\n",
    "    plt.draw()\n",
    "    plt.pause(0.01)\n",
    "    writer.grab_frame()\n",
    "    "
   ]
  },
  {
   "cell_type": "code",
   "execution_count": 302,
   "metadata": {},
   "outputs": [
    {
     "name": "stdout",
     "output_type": "stream",
     "text": [
      "[[5. 4. 4. ... 4. 4. 4.]\n",
      " [4. 0. 0. ... 4. 0. 4.]\n",
      " [4. 4. 0. ... 0. 0. 4.]\n",
      " ...\n",
      " [4. 0. 0. ... 0. 0. 4.]\n",
      " [4. 4. 4. ... 0. 0. 4.]\n",
      " [4. 4. 4. ... 4. 4. 4.]]\n"
     ]
    }
   ],
   "source": [
    "# Initialize matrix containing all 2D grid points A(x,y)\n",
    "A = np.zeros((maxX, maxY))\n",
    "\n",
    "# Fill points in as vegetation depending on D\n",
    "# 0 = tree (green), 1 = burning (orange), 4 = empty (brown), 5 = burnt (gray) \n",
    "# to match color map\n",
    "for i in range(maxX):\n",
    "    for j in range(maxY):\n",
    "        p = np.random.random()\n",
    "        if p < D:\n",
    "            A[i,j] = 0\n",
    "        elif p > .999:\n",
    "            A[i,j] = 1\n",
    "        else:\n",
    "            A[i,j] = 4\n",
    "            \n",
    "# start some burning in center of grid if not empty\n",
    "# for i in range(maxX):\n",
    "#     for j in range(maxY):\n",
    "#         if (i-250)**2 + (j-250)**2 < 100:\n",
    "#             if A[i,j] == 0:\n",
    "#                 A[i,j] = 1;\n",
    "            \n",
    "# Make border all empty cells to simplify boundary conditions            \n",
    "A[:,0] = 4\n",
    "A[:,maxY-1] = 4\n",
    "A[maxX-1,:] = 4\n",
    "A[0,:] = 4\n",
    "A[0,0] = 5\n",
    "        \n",
    "print(A.transpose())"
   ]
  },
  {
   "cell_type": "code",
   "execution_count": 303,
   "metadata": {},
   "outputs": [],
   "source": [
    "from matplotlib.animation import FFMpegWriter\n",
    "metadata = dict(title='Forest Fire Simulation', artist='Emily',comment='Final Project')\n",
    "writer = FFMpegWriter(fps=15, metadata=metadata)\n",
    "fig = plt.figure()\n",
    "with writer.saving(fig, \"Animation3.mp4\", dpi=200):\n",
    "    n_steps = 500\n",
    "    for t in range(n_steps):\n",
    "        A_new = A[:]\n",
    "        burning = False\n",
    "        for i in range(maxX):\n",
    "            for j in range(maxY):\n",
    "                if A[i,j] == 1: #if cell is burning\n",
    "                    burning = True\n",
    "                    #check if cell should become burnt\n",
    "                    if np.random.random() < I: \n",
    "                        A_new[i,j] = 5\n",
    "\n",
    "                    #check if vegetation neighbors of burning cell should become burning\n",
    "                    for g in range(i-1,i+2): \n",
    "                        for h in range(j-1,j+2):\n",
    "                            if A[g,h] == 0:\n",
    "                                if np.random.random() < B:\n",
    "                                    A_new[g,h] = 1\n",
    "        A = A_new[:]\n",
    "        if t % 10 == 0:\n",
    "            plt.clf()\n",
    "            plt.rcParams['figure.figsize'] = [10, 10/maxX*maxY]\n",
    "            plt.imshow(A, cmap='Dark2'); \n",
    "            plt.axis('off'); \n",
    "            plt.show()\n",
    "            plt.draw()\n",
    "            plt.pause(0.01)\n",
    "            writer.grab_frame()\n",
    "        if burning == False:\n",
    "            break\n",
    "        \n",
    "                "
   ]
  },
  {
   "cell_type": "code",
   "execution_count": null,
   "metadata": {},
   "outputs": [],
   "source": []
  }
 ],
 "metadata": {
  "kernelspec": {
   "display_name": "Python 3",
   "language": "python",
   "name": "python3"
  },
  "language_info": {
   "codemirror_mode": {
    "name": "ipython",
    "version": 3
   },
   "file_extension": ".py",
   "mimetype": "text/x-python",
   "name": "python",
   "nbconvert_exporter": "python",
   "pygments_lexer": "ipython3",
   "version": "3.7.6"
  }
 },
 "nbformat": 4,
 "nbformat_minor": 2
}
